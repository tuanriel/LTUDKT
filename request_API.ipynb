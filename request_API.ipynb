{
 "cells": [
  {
   "cell_type": "code",
   "execution_count": 9,
   "id": "aa584361",
   "metadata": {},
   "outputs": [],
   "source": [
    "import openmeteo_requests\n",
    "\n",
    "import pandas as pd\n",
    "import requests_cache\n",
    "from retry_requests import retry\n",
    "\n",
    "# Setup the Open-Meteo API client with cache and retry on error\n",
    "cache_session = requests_cache.CachedSession('.cache', expire_after = -1)\n",
    "retry_session = retry(cache_session, retries = 5, backoff_factor = 0.2)\n",
    "openmeteo = openmeteo_requests.Client(session = retry_session)\n",
    "\n",
    "# Make sure all required weather variables are listed here\n",
    "# The order of variables in hourly or daily is important to assign them correctly below\n",
    "url = \"https://archive-api.open-meteo.com/v1/archive\""
   ]
  },
  {
   "cell_type": "code",
   "execution_count": 10,
   "id": "9ff0c351",
   "metadata": {},
   "outputs": [
    {
     "name": "stdout",
     "output_type": "stream",
     "text": [
      "Coordinates 21.054479598999023°N 105.8071060180664°E\n",
      "Elevation 20.0 m asl\n",
      "Timezone b'Asia/Bangkok'b'GMT+7'\n",
      "Timezone difference to GMT+0 25200 s\n",
      "                         date  relative_humidity_2m_mean  temperature_2m_min  \\\n",
      "0   2024-12-31 17:00:00+00:00                  70.369194           12.915500   \n",
      "1   2025-01-01 17:00:00+00:00                  65.792099           13.465500   \n",
      "2   2025-01-02 17:00:00+00:00                  60.062744           14.265500   \n",
      "3   2025-01-03 17:00:00+00:00                  63.819340           13.965500   \n",
      "4   2025-01-04 17:00:00+00:00                  59.340221           14.265500   \n",
      "..                        ...                        ...                 ...   \n",
      "130 2025-05-10 17:00:00+00:00                  75.902489           20.915501   \n",
      "131 2025-05-11 17:00:00+00:00                  71.557739           19.565500   \n",
      "132 2025-05-12 17:00:00+00:00                  77.699509           21.165501   \n",
      "133 2025-05-13 17:00:00+00:00                  85.172951           23.715500   \n",
      "134 2025-05-14 17:00:00+00:00                  91.164604           24.715500   \n",
      "\n",
      "     temperature_2m_max   rain_sum  \n",
      "0             24.615501   0.000000  \n",
      "1             25.615501   0.000000  \n",
      "2             25.765501   0.000000  \n",
      "3             24.565500   0.000000  \n",
      "4             24.465500   0.000000  \n",
      "..                  ...        ...  \n",
      "130           26.565500  10.900001  \n",
      "131           28.165501   0.000000  \n",
      "132           29.865501   0.000000  \n",
      "133           29.415501   5.900000  \n",
      "134           29.815500  15.900001  \n",
      "\n",
      "[135 rows x 5 columns]\n"
     ]
    }
   ],
   "source": [
    "\n",
    "params = {\n",
    "\t\"latitude\": 21.02,\n",
    "\t\"longitude\": 105.85,\n",
    "\t\"start_date\": \"2025-01-01\",\n",
    "\t\"end_date\": \"2025-05-15\",\n",
    "\t\"daily\": [\"relative_humidity_2m_mean\", \"temperature_2m_min\", \"temperature_2m_max\", \"rain_sum\"],\n",
    "\t\"timezone\": \"Asia/Bangkok\"\n",
    "}\n",
    "responses = openmeteo.weather_api(url, params=params)\n",
    "\n",
    "# Process first location. Add a for-loop for multiple locations or weather models\n",
    "response = responses[0]\n",
    "print(f\"Coordinates {response.Latitude()}°N {response.Longitude()}°E\")\n",
    "print(f\"Elevation {response.Elevation()} m asl\")\n",
    "print(f\"Timezone {response.Timezone()}{response.TimezoneAbbreviation()}\")\n",
    "print(f\"Timezone difference to GMT+0 {response.UtcOffsetSeconds()} s\")\n",
    "\n",
    "# Process daily data. The order of variables needs to be the same as requested.\n",
    "daily = response.Daily()\n",
    "daily_relative_humidity_2m_mean = daily.Variables(0).ValuesAsNumpy()\n",
    "daily_temperature_2m_min = daily.Variables(1).ValuesAsNumpy()\n",
    "daily_temperature_2m_max = daily.Variables(2).ValuesAsNumpy()\n",
    "daily_rain_sum = daily.Variables(3).ValuesAsNumpy()\n",
    "\n",
    "daily_data = {\"date\": pd.date_range(\n",
    "\tstart = pd.to_datetime(daily.Time(), unit = \"s\", utc = True),\n",
    "\tend = pd.to_datetime(daily.TimeEnd(), unit = \"s\", utc = True),\n",
    "\tfreq = pd.Timedelta(seconds = daily.Interval()),\n",
    "\tinclusive = \"left\"\n",
    ")}\n",
    "\n",
    "daily_data[\"relative_humidity_2m_mean\"] = daily_relative_humidity_2m_mean\n",
    "daily_data[\"temperature_2m_min\"] = daily_temperature_2m_min\n",
    "daily_data[\"temperature_2m_max\"] = daily_temperature_2m_max\n",
    "daily_data[\"rain_sum\"] = daily_rain_sum\n",
    "\n",
    "daily_dataframe = pd.DataFrame(data = daily_data)\n",
    "print(daily_dataframe)"
   ]
  },
  {
   "cell_type": "code",
   "execution_count": null,
   "id": "86fa37df",
   "metadata": {},
   "outputs": [],
   "source": []
  }
 ],
 "metadata": {
  "kernelspec": {
   "display_name": "Python 3",
   "language": "python",
   "name": "python3"
  },
  "language_info": {
   "codemirror_mode": {
    "name": "ipython",
    "version": 3
   },
   "file_extension": ".py",
   "mimetype": "text/x-python",
   "name": "python",
   "nbconvert_exporter": "python",
   "pygments_lexer": "ipython3",
   "version": "3.12.3"
  }
 },
 "nbformat": 4,
 "nbformat_minor": 5
}
